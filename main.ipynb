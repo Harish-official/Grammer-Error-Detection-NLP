{
  "nbformat": 4,
  "nbformat_minor": 0,
  "metadata": {
    "colab": {
      "provenance": []
    },
    "kernelspec": {
      "name": "python3",
      "display_name": "Python 3"
    },
    "language_info": {
      "name": "python"
    }
  },
  "cells": [
    {
      "cell_type": "code",
      "execution_count": 257,
      "metadata": {
        "id": "SFkaL8jCrpqm"
      },
      "outputs": [],
      "source": [
        "import re\n",
        "import numpy as np\n",
        "import pandas as pd\n",
        "import nltk\n",
        "#nltk.download('all')\n",
        "from nltk.corpus import stopwords\n",
        "from nltk.stem import WordNetLemmatizer\n",
        "from sklearn.feature_extraction.text import CountVectorizer\n",
        "from sklearn.model_selection import train_test_split\n",
        "from sklearn.base import TransformerMixin\n",
        "from sklearn.svm import LinearSVC\n",
        "from sklearn.metrics import accuracy_score, confusion_matrix, f1_score\n",
        "from sklearn.pipeline import Pipeline\n",
        "import string"
      ]
    },
    {
      "cell_type": "code",
      "source": [
        "df = pd.read_csv('All_train_data.csv').head(1000)"
      ],
      "metadata": {
        "id": "Vz5WeXMACq7i"
      },
      "execution_count": 258,
      "outputs": []
    },
    {
      "cell_type": "code",
      "source": [
        "punctuations = string.punctuation\n",
        "stop_words = stopwords.words('english')\n",
        "lemmatizer = WordNetLemmatizer()\n"
      ],
      "metadata": {
        "id": "FY50CA-A35Vb"
      },
      "execution_count": 259,
      "outputs": []
    },
    {
      "cell_type": "code",
      "source": [
        "class Predictors(TransformerMixin):\n",
        "  def transform(self, Sentence, **transform_params):\n",
        "    return [clean_text(text) for text in Sentence]\n",
        "  def fit(self, X, y=None, **fit_params):\n",
        "    return self\n",
        "  def get_params(self, deep=True):\n",
        "    return {}\n",
        "\n",
        "\n",
        "def clean_text(text):\n",
        "  return text.strip().lower()\n",
        "def tokenize(sentence):\n",
        "  words = nltk.word_tokenize(sentence)\n",
        "  pos_tags = nltk.pos_tag(words)\n",
        "  tokens = [lemmatizer.lemmatize(word).lower().strip() if(tag!='PRP' or tag!='PRP$') else word.lower().strip() for word, tag in pos_tags]\n",
        "  tokens = [tok for tok in tokens if(tok not in stop_words and tok not in punctuations)]\n",
        "  return tokens\n",
        "  # for word, pos in pos_tags:\n",
        "  #   print(word, pos)"
      ],
      "metadata": {
        "id": "kzLgPBfLxdHv"
      },
      "execution_count": 260,
      "outputs": []
    },
    {
      "cell_type": "code",
      "source": [
        "vectorizer = CountVectorizer(tokenizer = tokenize, ngram_range=(1, 1))\n",
        "classifier = LinearSVC()\n",
        "\n",
        "pipe = Pipeline([('cleaner', Predictors()), ('vectorizer', vectorizer), ('classifier', classifier)])"
      ],
      "metadata": {
        "id": "OTmm3vGR7GtK"
      },
      "execution_count": 261,
      "outputs": []
    },
    {
      "cell_type": "code",
      "source": [
        "X_train, X_test, y_train, y_test = train_test_split(df['input'], df['labels'], train_size=0.5, random_state=15)"
      ],
      "metadata": {
        "id": "s91asSBrC9UZ"
      },
      "execution_count": 262,
      "outputs": []
    },
    {
      "cell_type": "code",
      "source": [
        "pipe.fit(X=X_train, y=y_train)\n",
        "pred_data = pipe.predict(X_test) "
      ],
      "metadata": {
        "colab": {
          "base_uri": "https://localhost:8080/"
        },
        "id": "KTgiEfTA8nEq",
        "outputId": "f4a908a3-cb02-4090-e9ff-a7a9d336c65e"
      },
      "execution_count": 263,
      "outputs": [
        {
          "output_type": "stream",
          "name": "stderr",
          "text": [
            "/usr/local/lib/python3.9/dist-packages/sklearn/feature_extraction/text.py:528: UserWarning: The parameter 'token_pattern' will not be used since 'tokenizer' is not None'\n",
            "  warnings.warn(\n"
          ]
        }
      ]
    },
    {
      "cell_type": "code",
      "source": [
        "Score = accuracy_score(y_test, pred_data)\n",
        "f_score = f1_score(y_test, pred_data)\n",
        "conf = confusion_matrix(y_test, pred_data)\n",
        "print(f\"Accuracy Score is :{Score}\")\n",
        "print(f\"F1 Score is :{f_score}\")\n",
        "print(f\"Confusion Matrix Score is :\\n{conf}\")"
      ],
      "metadata": {
        "colab": {
          "base_uri": "https://localhost:8080/"
        },
        "id": "bASMR9DKHDmj",
        "outputId": "4087046f-24ce-4a40-c7c7-f2a2b96db2fd"
      },
      "execution_count": 264,
      "outputs": [
        {
          "output_type": "stream",
          "name": "stdout",
          "text": [
            "Accuracy Score is :0.468\n",
            "F1 Score is :0.4784313725490196\n",
            "Confusion Matrix Score is :\n",
            "[[112 147]\n",
            " [119 122]]\n"
          ]
        }
      ]
    }
  ]
}